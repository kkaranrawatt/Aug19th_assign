{
 "cells": [
  {
   "cell_type": "code",
   "execution_count": 7,
   "id": "a3ea5b4e",
   "metadata": {},
   "outputs": [],
   "source": [
    "x=10\n",
    "y=20"
   ]
  },
  {
   "cell_type": "code",
   "execution_count": 8,
   "id": "2b0bf866",
   "metadata": {},
   "outputs": [
    {
     "data": {
      "text/plain": [
       "10"
      ]
     },
     "execution_count": 8,
     "metadata": {},
     "output_type": "execute_result"
    }
   ],
   "source": [
    "x"
   ]
  },
  {
   "cell_type": "code",
   "execution_count": 9,
   "id": "19db79c1",
   "metadata": {},
   "outputs": [
    {
     "data": {
      "text/plain": [
       "20"
      ]
     },
     "execution_count": 9,
     "metadata": {},
     "output_type": "execute_result"
    }
   ],
   "source": [
    "y"
   ]
  },
  {
   "cell_type": "code",
   "execution_count": 10,
   "id": "f5310d0d",
   "metadata": {},
   "outputs": [],
   "source": [
    "x,y=y,x"
   ]
  },
  {
   "cell_type": "code",
   "execution_count": 12,
   "id": "10a1d725",
   "metadata": {},
   "outputs": [
    {
     "name": "stdout",
     "output_type": "stream",
     "text": [
      "x= 20\n"
     ]
    }
   ],
   "source": [
    "print(\"x=\",x)"
   ]
  },
  {
   "cell_type": "code",
   "execution_count": 13,
   "id": "b7753110",
   "metadata": {},
   "outputs": [
    {
     "name": "stdout",
     "output_type": "stream",
     "text": [
      "y= 10\n"
     ]
    }
   ],
   "source": [
    "print(\"y=\",y)"
   ]
  },
  {
   "cell_type": "code",
   "execution_count": 14,
   "id": "eb49ac9f",
   "metadata": {},
   "outputs": [],
   "source": [
    "#calculating and displaying an area"
   ]
  },
  {
   "cell_type": "code",
   "execution_count": 15,
   "id": "5ba39177",
   "metadata": {},
   "outputs": [
    {
     "name": "stdout",
     "output_type": "stream",
     "text": [
      "Please enter widht of rectangle:10\n"
     ]
    }
   ],
   "source": [
    "w=int(input('Please enter widht of rectangle:'))"
   ]
  },
  {
   "cell_type": "code",
   "execution_count": 16,
   "id": "321695c5",
   "metadata": {},
   "outputs": [
    {
     "name": "stdout",
     "output_type": "stream",
     "text": [
      "Please enter height of rectangle:15\n"
     ]
    }
   ],
   "source": [
    "h=int(input('Please enter height of rectangle:'))"
   ]
  },
  {
   "cell_type": "code",
   "execution_count": 21,
   "id": "859feca8",
   "metadata": {},
   "outputs": [],
   "source": [
    "Area=w*h"
   ]
  },
  {
   "cell_type": "code",
   "execution_count": 22,
   "id": "d30e9fb3",
   "metadata": {},
   "outputs": [
    {
     "name": "stdout",
     "output_type": "stream",
     "text": [
      "Area of a Rectangle is: 150.00\n"
     ]
    }
   ],
   "source": [
    "print(\"Area of a Rectangle is: %.2f\" %Area)"
   ]
  },
  {
   "cell_type": "code",
   "execution_count": 23,
   "id": "7b806c4e",
   "metadata": {},
   "outputs": [],
   "source": [
    "#converts temperatures from Celsius to Fahrenheit"
   ]
  },
  {
   "cell_type": "code",
   "execution_count": 24,
   "id": "7d8ac876",
   "metadata": {},
   "outputs": [
    {
     "name": "stdout",
     "output_type": "stream",
     "text": [
      "Temprature of celsius: 10\n"
     ]
    }
   ],
   "source": [
    "C=int(input('Temprature of celsius: '))"
   ]
  },
  {
   "cell_type": "code",
   "execution_count": 26,
   "id": "ae4ecec4",
   "metadata": {},
   "outputs": [],
   "source": [
    "F=(C*9/5)+32"
   ]
  },
  {
   "cell_type": "code",
   "execution_count": 28,
   "id": "6e04d411",
   "metadata": {},
   "outputs": [
    {
     "name": "stdout",
     "output_type": "stream",
     "text": [
      "10.00 Celsius is :- 50.00 Fahrenheit\n"
     ]
    }
   ],
   "source": [
    "print('%.2f Celsius is :- %0.2f Fahrenheit' %(C, F))"
   ]
  },
  {
   "cell_type": "code",
   "execution_count": 29,
   "id": "1b8c9274",
   "metadata": {},
   "outputs": [],
   "source": [
    "#length of the string"
   ]
  },
  {
   "cell_type": "code",
   "execution_count": 30,
   "id": "d6059777",
   "metadata": {},
   "outputs": [
    {
     "name": "stdout",
     "output_type": "stream",
     "text": [
      "This is PW assignments\n"
     ]
    }
   ],
   "source": [
    "a=input()"
   ]
  },
  {
   "cell_type": "code",
   "execution_count": 33,
   "id": "2fed3e14",
   "metadata": {},
   "outputs": [
    {
     "data": {
      "text/plain": [
       "22"
      ]
     },
     "execution_count": 33,
     "metadata": {},
     "output_type": "execute_result"
    }
   ],
   "source": [
    "len(a)"
   ]
  },
  {
   "cell_type": "code",
   "execution_count": 34,
   "id": "1ecbb4aa",
   "metadata": {},
   "outputs": [],
   "source": [
    "#counts the number of vowels"
   ]
  },
  {
   "cell_type": "code",
   "execution_count": 35,
   "id": "25b14bde",
   "metadata": {},
   "outputs": [],
   "source": [
    "sent=\"This is PW assignments\""
   ]
  },
  {
   "cell_type": "code",
   "execution_count": 36,
   "id": "c7f540e6",
   "metadata": {},
   "outputs": [],
   "source": [
    "vowels='aeiou'"
   ]
  },
  {
   "cell_type": "code",
   "execution_count": 37,
   "id": "6ba383f0",
   "metadata": {},
   "outputs": [],
   "source": [
    "count=sum(sent.count(vowel) for vowel in vowels)"
   ]
  },
  {
   "cell_type": "code",
   "execution_count": 38,
   "id": "9ec36025",
   "metadata": {},
   "outputs": [
    {
     "name": "stdout",
     "output_type": "stream",
     "text": [
      "5\n"
     ]
    }
   ],
   "source": [
    "print(count)"
   ]
  },
  {
   "cell_type": "code",
   "execution_count": 39,
   "id": "1c1e2993",
   "metadata": {},
   "outputs": [],
   "source": [
    "#print the reversed string"
   ]
  },
  {
   "cell_type": "code",
   "execution_count": 40,
   "id": "5037b235",
   "metadata": {},
   "outputs": [],
   "source": [
    "a1='My name is Karan Singh Rawat'"
   ]
  },
  {
   "cell_type": "code",
   "execution_count": 41,
   "id": "ae9a30e3",
   "metadata": {},
   "outputs": [
    {
     "data": {
      "text/plain": [
       "'M'"
      ]
     },
     "execution_count": 41,
     "metadata": {},
     "output_type": "execute_result"
    }
   ],
   "source": [
    "a1[0]"
   ]
  },
  {
   "cell_type": "code",
   "execution_count": 42,
   "id": "eb180155",
   "metadata": {},
   "outputs": [
    {
     "data": {
      "text/plain": [
       "'i'"
      ]
     },
     "execution_count": 42,
     "metadata": {},
     "output_type": "execute_result"
    }
   ],
   "source": [
    "a1[8]"
   ]
  },
  {
   "cell_type": "code",
   "execution_count": 43,
   "id": "74a31b25",
   "metadata": {},
   "outputs": [
    {
     "data": {
      "text/plain": [
       "'tawaR hgniS naraK si eman yM'"
      ]
     },
     "execution_count": 43,
     "metadata": {},
     "output_type": "execute_result"
    }
   ],
   "source": [
    "a1[::-1]"
   ]
  },
  {
   "cell_type": "code",
   "execution_count": 44,
   "id": "3ba1ee01",
   "metadata": {},
   "outputs": [
    {
     "name": "stdout",
     "output_type": "stream",
     "text": [
      "NITIN\n"
     ]
    }
   ],
   "source": [
    "a2=input()"
   ]
  },
  {
   "cell_type": "code",
   "execution_count": 45,
   "id": "ffc4054e",
   "metadata": {},
   "outputs": [
    {
     "data": {
      "text/plain": [
       "'N'"
      ]
     },
     "execution_count": 45,
     "metadata": {},
     "output_type": "execute_result"
    }
   ],
   "source": [
    "a2[0]"
   ]
  },
  {
   "cell_type": "code",
   "execution_count": 46,
   "id": "50019a88",
   "metadata": {},
   "outputs": [
    {
     "data": {
      "text/plain": [
       "'NITIN'"
      ]
     },
     "execution_count": 46,
     "metadata": {},
     "output_type": "execute_result"
    }
   ],
   "source": [
    "a2[::-1]"
   ]
  },
  {
   "cell_type": "code",
   "execution_count": 47,
   "id": "8a77609f",
   "metadata": {},
   "outputs": [],
   "source": [
    "#modified string without spaces"
   ]
  },
  {
   "cell_type": "code",
   "execution_count": 48,
   "id": "2a664e7a",
   "metadata": {},
   "outputs": [
    {
     "name": "stdout",
     "output_type": "stream",
     "text": [
      "we need to remove white spaces\n"
     ]
    }
   ],
   "source": [
    "a3=input()"
   ]
  },
  {
   "cell_type": "code",
   "execution_count": 49,
   "id": "1f27a1e7",
   "metadata": {},
   "outputs": [],
   "source": [
    "a3=a3.replace(\" \",\"\")"
   ]
  },
  {
   "cell_type": "code",
   "execution_count": 50,
   "id": "d9d0301f",
   "metadata": {},
   "outputs": [
    {
     "data": {
      "text/plain": [
       "'weneedtoremovewhitespaces'"
      ]
     },
     "execution_count": 50,
     "metadata": {},
     "output_type": "execute_result"
    }
   ],
   "source": [
    "a3"
   ]
  },
  {
   "cell_type": "code",
   "execution_count": null,
   "id": "39a4f46c",
   "metadata": {},
   "outputs": [],
   "source": []
  }
 ],
 "metadata": {
  "kernelspec": {
   "display_name": "Python 3 (ipykernel)",
   "language": "python",
   "name": "python3"
  },
  "language_info": {
   "codemirror_mode": {
    "name": "ipython",
    "version": 3
   },
   "file_extension": ".py",
   "mimetype": "text/x-python",
   "name": "python",
   "nbconvert_exporter": "python",
   "pygments_lexer": "ipython3",
   "version": "3.11.4"
  }
 },
 "nbformat": 4,
 "nbformat_minor": 5
}
